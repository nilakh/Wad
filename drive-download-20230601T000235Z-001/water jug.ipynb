{
 "cells": [
  {
   "cell_type": "code",
   "execution_count": 3,
   "id": "693ffdd6",
   "metadata": {},
   "outputs": [
    {
     "name": "stdout",
     "output_type": "stream",
     "text": [
      "enter the no. of capacity of jug 1: 3\n",
      "enter the no of capacity of jug 2: 4\n",
      "enter the nn of capacity to be filled: 2\n",
      "jug1\tjug2\n",
      "0\t0\n",
      "3\t0\n",
      "0\t3\n",
      "3\t3\n",
      "2\t4\n",
      "0\t2\n"
     ]
    }
   ],
   "source": [
    "max1=int(input(\"enter the no. of capacity of jug 1: \"))\n",
    "max2=int(input(\"enter the no of capacity of jug 2: \"))\n",
    "fill=int(input(\"enter the no of capacity to be filled: \"))\n",
    "\n",
    "def pour(jug1,jug2):\n",
    "    print(\"%d\\t%d\" % (jug1,jug2))\n",
    "    if jug2 == fill:\n",
    "        return\n",
    "    elif jug2 == max2:\n",
    "         pour(0,jug1)\n",
    "    elif jug1 !=0 and jug2==0:\n",
    "        pour(0,jug1)\n",
    "    elif jug1 ==fill:\n",
    "        pour(jug1,0)\n",
    "    elif jug1 < max1:\n",
    "        pour(max1,jug2)\n",
    "    elif jug1 < (max2-jug2):\n",
    "        pour(0,(jug1+jug2))\n",
    "        \n",
    "    else:\n",
    "        pour(jug1-(max2-jug2),(max2-jug2)+jug2)\n",
    "        \n",
    "print(\"jug1\\tjug2\")\n",
    "pour(0,0)\n",
    "    \n",
    "    \n",
    "        \n",
    "    \n",
    "\n"
   ]
  },
  {
   "cell_type": "code",
   "execution_count": null,
   "id": "cc14d0eb",
   "metadata": {},
   "outputs": [],
   "source": []
  }
 ],
 "metadata": {
  "kernelspec": {
   "display_name": "Python 3 (ipykernel)",
   "language": "python",
   "name": "python3"
  },
  "language_info": {
   "codemirror_mode": {
    "name": "ipython",
    "version": 3
   },
   "file_extension": ".py",
   "mimetype": "text/x-python",
   "name": "python",
   "nbconvert_exporter": "python",
   "pygments_lexer": "ipython3",
   "version": "3.10.6"
  }
 },
 "nbformat": 4,
 "nbformat_minor": 5
}
