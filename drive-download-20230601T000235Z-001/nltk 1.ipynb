{
 "cells": [
  {
   "cell_type": "code",
   "execution_count": 1,
   "id": "7e9a8cbb",
   "metadata": {},
   "outputs": [],
   "source": [
    "import nltk"
   ]
  },
  {
   "cell_type": "code",
   "execution_count": 2,
   "id": "e1a8460b",
   "metadata": {},
   "outputs": [],
   "source": [
    "from nltk.corpus import stopwords\n",
    "from nltk.tokenize import word_tokenize\n",
    "from nltk.probability import FreqDist\n",
    "from nltk.tag import pos_tag"
   ]
  },
  {
   "cell_type": "code",
   "execution_count": 3,
   "id": "8356d83d",
   "metadata": {},
   "outputs": [
    {
     "name": "stderr",
     "output_type": "stream",
     "text": [
      "[nltk_data] Downloading package punkt to /home/anuja/nltk_data...\n",
      "[nltk_data]   Package punkt is already up-to-date!\n",
      "[nltk_data] Downloading package stopwords to /home/anuja/nltk_data...\n",
      "[nltk_data]   Package stopwords is already up-to-date!\n",
      "[nltk_data] Downloading package averaged_perceptron_tagger to\n",
      "[nltk_data]     /home/anuja/nltk_data...\n",
      "[nltk_data]   Package averaged_perceptron_tagger is already up-to-\n",
      "[nltk_data]       date!\n"
     ]
    },
    {
     "data": {
      "text/plain": [
       "True"
      ]
     },
     "execution_count": 3,
     "metadata": {},
     "output_type": "execute_result"
    }
   ],
   "source": [
    "nltk.download('punkt')\n",
    "nltk.download('stopwords')\n",
    "nltk.download('averaged_perceptron_tagger')"
   ]
  },
  {
   "cell_type": "code",
   "execution_count": 4,
   "id": "80f2befb",
   "metadata": {},
   "outputs": [],
   "source": [
    "text=(\"this is a sample text.it contain multiple words and some of the repeat. we will analyzed this text using NLTK\") "
   ]
  },
  {
   "cell_type": "code",
   "execution_count": 5,
   "id": "7b02c586",
   "metadata": {},
   "outputs": [],
   "source": [
    "# tokenized word\n",
    "words=word_tokenize(text)"
   ]
  },
  {
   "cell_type": "code",
   "execution_count": 6,
   "id": "ef585c20",
   "metadata": {},
   "outputs": [
    {
     "name": "stdout",
     "output_type": "stream",
     "text": [
      "tokenized words: ['this', 'is', 'a', 'sample', 'text.it', 'contain', 'multiple', 'words', 'and', 'some', 'of', 'the', 'repeat', '.', 'we', 'will', 'analyzed', 'this', 'text', 'using', 'NLTK']\n"
     ]
    }
   ],
   "source": [
    "print(\"tokenized words:\", words)"
   ]
  },
  {
   "cell_type": "code",
   "execution_count": 7,
   "id": "94f657e2",
   "metadata": {},
   "outputs": [],
   "source": [
    "# lower case word\n",
    "words=[word.lower()for word in words]"
   ]
  },
  {
   "cell_type": "code",
   "execution_count": 8,
   "id": "76ffe4fb",
   "metadata": {},
   "outputs": [
    {
     "name": "stdout",
     "output_type": "stream",
     "text": [
      "word Frequency: \n",
      "this:2\n",
      "is:1\n",
      "a:1\n",
      "sample:1\n",
      "text.it:1\n",
      "contain:1\n",
      "multiple:1\n",
      "words:1\n",
      "and:1\n",
      "some:1\n",
      "of:1\n",
      "the:1\n",
      "repeat:1\n",
      ".:1\n",
      "we:1\n",
      "will:1\n",
      "analyzed:1\n",
      "text:1\n",
      "using:1\n",
      "nltk:1\n"
     ]
    }
   ],
   "source": [
    "fdist=FreqDist(words)\n",
    "print(\"word Frequency: \")\n",
    "for word,freq in fdist.items():\n",
    "    print(f\"{word}:{freq}\")"
   ]
  },
  {
   "cell_type": "code",
   "execution_count": 11,
   "id": "f0173ef1",
   "metadata": {},
   "outputs": [
    {
     "name": "stdout",
     "output_type": "stream",
     "text": [
      "filtered words: \n",
      "['sample', 'text.it', 'contain', 'multiple', 'words', 'repeat', '.', 'analyzed', 'text', 'using', 'nltk']\n"
     ]
    }
   ],
   "source": [
    "# stop words\n",
    "stop_words=set(stopwords.words('english'))\n",
    "filtered_words=[word for word in words if word.casefold() not in stop_words ]\n",
    "print('filtered words: ')\n",
    "print(filtered_words)"
   ]
  },
  {
   "cell_type": "code",
   "execution_count": 12,
   "id": "27fe26d6",
   "metadata": {
    "scrolled": true
   },
   "outputs": [
    {
     "name": "stdout",
     "output_type": "stream",
     "text": [
      "pos tags: \n",
      "[('this', 'DT'), ('is', 'VBZ'), ('a', 'DT'), ('sample', 'JJ'), ('text.it', 'NN'), ('contain', 'NN'), ('multiple', 'JJ'), ('words', 'NNS'), ('and', 'CC'), ('some', 'DT'), ('of', 'IN'), ('the', 'DT'), ('repeat', 'NN'), ('.', '.'), ('we', 'PRP'), ('will', 'MD'), ('analyzed', 'VB'), ('this', 'DT'), ('text', 'NN'), ('using', 'VBG'), ('nltk', 'NNS')]\n"
     ]
    }
   ],
   "source": [
    "# pos tag\n",
    "pos_tags = pos_tag(words)\n",
    "print(\"pos tags: \")\n",
    "print(pos_tags)"
   ]
  },
  {
   "cell_type": "code",
   "execution_count": null,
   "id": "812534a4",
   "metadata": {},
   "outputs": [],
   "source": []
  }
 ],
 "metadata": {
  "kernelspec": {
   "display_name": "Python 3 (ipykernel)",
   "language": "python",
   "name": "python3"
  },
  "language_info": {
   "codemirror_mode": {
    "name": "ipython",
    "version": 3
   },
   "file_extension": ".py",
   "mimetype": "text/x-python",
   "name": "python",
   "nbconvert_exporter": "python",
   "pygments_lexer": "ipython3",
   "version": "3.10.6"
  }
 },
 "nbformat": 4,
 "nbformat_minor": 5
}
