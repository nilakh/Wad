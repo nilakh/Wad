{
 "cells": [
  {
   "cell_type": "code",
   "execution_count": 3,
   "id": "f02868ee",
   "metadata": {},
   "outputs": [
    {
     "name": "stdout",
     "output_type": "stream",
     "text": [
      "Enter the number of rows: 4\n",
      "Enter the number of columns: 4\n",
      "Enter the entries rowwise: \n",
      "0 5 15 4\n",
      "5 0 35 25\n",
      "15 35 0 30\n",
      "4 25 30 0\n",
      "[[0, 5, 15, 4], [5, 0, 35, 25], [15, 35, 0, 30], [4, 25, 30, 0]]\n",
      "For travelling starting from city  0 :\n",
      "Tour:  [0, 3, 1, 2, 0]\n",
      "Total Cost:  79\n",
      "For travelling starting from city  1 :\n",
      "Tour:  [1, 0, 3, 2, 1]\n",
      "Total Cost:  74\n",
      "For travelling starting from city  2 :\n",
      "Tour:  [2, 0, 3, 1, 2]\n",
      "Total Cost:  79\n",
      "For travelling starting from city  3 :\n",
      "Tour:  [3, 0, 1, 2, 3]\n",
      "Total Cost:  74\n",
      "\n",
      "The minimum cost is: 74\n",
      "The optimised path is: [1, 0, 3, 2, 1]\n"
     ]
    }
   ],
   "source": [
    "import sys\n",
    "r=int(input(\"Enter the number of rows: \"))\n",
    "c=int(input(\"Enter the number of columns: \"))\n",
    "dist_matrix=[]\n",
    "print(\"Enter the entries rowwise: \")\n",
    "for i in range(r):\n",
    "    r = list(map(int, input().split()))\n",
    "    dist_matrix.append(r)\n",
    "print(dist_matrix)\n",
    "\n",
    "def nearest_neighbor(curr,unvisited,dist_matrix):\n",
    "    nearest=sys.maxsize\n",
    "    neighbor=None\n",
    "    for city in unvisited:\n",
    "        if dist_matrix[curr][city]<nearest:\n",
    "            nearest=dist_matrix[curr][city]\n",
    "            neighbor=city\n",
    "    return neighbor,nearest\n",
    "\n",
    "def tsp_nn(dist_matrix):\n",
    "    n = len(dist_matrix)\n",
    "    Tourlist=[]\n",
    "    Costlist=[]\n",
    "    for j in range(0,n):\n",
    "        tour=[j]*(n+1)\n",
    "        unvisited=set(range(0, n))\n",
    "        unvisited.remove(j)\n",
    "        curr_city=j\n",
    "        for i in range(1,n):\n",
    "            next_city,dist=nearest_neighbor(curr_city,unvisited,dist_matrix)\n",
    "            tour[i]=next_city\n",
    "            curr_city=next_city\n",
    "            unvisited.remove(next_city)\n",
    "        tour[0]=j\n",
    "        cost=sum(dist_matrix[tour[i]][tour[i+1]] for i in range(n-1))\n",
    "        cost+=dist_matrix[tour[n-1]][tour[0]]\n",
    "        print(\"For travelling starting from city \",j,\":\")\n",
    "        print(\"Tour: \",tour)\n",
    "        print(\"Total Cost: \",cost)\n",
    "        Tourlist.append(tour)\n",
    "        Costlist.append(cost)\n",
    "    print(\"\\nThe minimum cost is:\",min(Costlist))\n",
    "    index=Costlist.index(min(Costlist))\n",
    "    print(\"The optimised path is:\",Tourlist[index])\n",
    "tsp_nn(dist_matrix)"
   ]
  },
  {
   "cell_type": "code",
   "execution_count": null,
   "id": "8fa351ad",
   "metadata": {},
   "outputs": [],
   "source": []
  },
  {
   "cell_type": "code",
   "execution_count": null,
   "id": "31433ef9",
   "metadata": {},
   "outputs": [],
   "source": []
  }
 ],
 "metadata": {
  "kernelspec": {
   "display_name": "Python 3 (ipykernel)",
   "language": "python",
   "name": "python3"
  },
  "language_info": {
   "codemirror_mode": {
    "name": "ipython",
    "version": 3
   },
   "file_extension": ".py",
   "mimetype": "text/x-python",
   "name": "python",
   "nbconvert_exporter": "python",
   "pygments_lexer": "ipython3",
   "version": "3.10.6"
  }
 },
 "nbformat": 4,
 "nbformat_minor": 5
}
